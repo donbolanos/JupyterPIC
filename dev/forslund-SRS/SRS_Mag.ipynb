{
 "cells": [
  {
   "cell_type": "markdown",
   "metadata": {},
   "source": [
    "# SRS : MagLPI for COMET experiment\n",
    "\n",
    "Objectif : [...]\n",
    "\n",
    "How to proceed [...]\n"
   ]
  },
  {
   "cell_type": "code",
   "execution_count": 1,
   "metadata": {},
   "outputs": [],
   "source": [
    "# **********************************\n",
    "# First Run This Cell to \n",
    "# import the necessary libraries\n",
    "# **********************************\n",
    "#\n",
    "# Please run this cell before running anything, and run this cell again if you have restarted the \n",
    "# python kernel.\n",
    "#\n",
    "# This cell imports useful routines to diagnose the simulations here\n",
    "#\n",
    "\n",
    "import IPython.display\n",
    "import sys\n",
    "import subprocess\n",
    "sys.path.append(\"../../analysis/\")\n",
    "%matplotlib inline\n",
    "import osiris\n",
    "from osiris import tajima\n",
    "from srs_helper import *\n",
    "import numpy as np\n",
    "import matplotlib.pyplot as plt\n",
    "from osh5vis import osplot\n",
    "from osh5io import *\n",
    "from osh5utils import fft\n",
    "from ipywidgets import interact_manual,Layout,interact, FloatSlider\n",
    "import ipywidgets as widgets\n",
    "interact_calc=interact_manual.options(manual_name=\"Make New Input and Run\")"
   ]
  },
  {
   "cell_type": "markdown",
   "metadata": {},
   "source": [
    "/!\\ Si le champ E n'est pas compilé en un seul fichier hdf5. =>> RUN la cell suivante"
   ]
  },
  {
   "cell_type": "code",
   "execution_count": 2,
   "metadata": {},
   "outputs": [
    {
     "ename": "CalledProcessError",
     "evalue": "Command '['python3', '/home/sbolanos/Documents/code/JupyterPIC/analysis/combine_h5_util_1d.py', './winjum/SRS_Bx10_gradn_Te8e-2_upS/MS/FLD/e1/', './winjum/SRS_Bx10_gradn_Te8e-2_upS/e1.h5']' returned non-zero exit status 1.",
     "output_type": "error",
     "traceback": [
      "\u001b[0;31m---------------------------------------------------------------------------\u001b[0m",
      "\u001b[0;31mCalledProcessError\u001b[0m                        Traceback (most recent call last)",
      "\u001b[0;32m<ipython-input-2-fc15a3a29e0e>\u001b[0m in \u001b[0;36m<module>\u001b[0;34m\u001b[0m\n\u001b[1;32m     20\u001b[0m \u001b[0;34m\u001b[0m\u001b[0m\n\u001b[1;32m     21\u001b[0m \u001b[0mprint\u001b[0m\u001b[0;34m(\u001b[0m\u001b[0;34m'combining E1 files'\u001b[0m\u001b[0;34m)\u001b[0m\u001b[0;34m\u001b[0m\u001b[0;34m\u001b[0m\u001b[0m\n\u001b[0;32m---> 22\u001b[0;31m \u001b[0mcombine_h5_1d\u001b[0m\u001b[0;34m(\u001b[0m\u001b[0;34m'e1'\u001b[0m\u001b[0;34m,\u001b[0m\u001b[0mrundir\u001b[0m\u001b[0;34m)\u001b[0m\u001b[0;34m\u001b[0m\u001b[0;34m\u001b[0m\u001b[0m\n\u001b[0m\u001b[1;32m     23\u001b[0m \u001b[0mcombine_h5_1d\u001b[0m\u001b[0;34m(\u001b[0m\u001b[0;34m'b1'\u001b[0m\u001b[0;34m,\u001b[0m\u001b[0mrundir\u001b[0m\u001b[0;34m)\u001b[0m\u001b[0;34m\u001b[0m\u001b[0;34m\u001b[0m\u001b[0m\n\u001b[1;32m     24\u001b[0m \u001b[0mprint\u001b[0m\u001b[0;34m(\u001b[0m\u001b[0;34m'DONE'\u001b[0m\u001b[0;34m)\u001b[0m\u001b[0;34m\u001b[0m\u001b[0;34m\u001b[0m\u001b[0m\n",
      "\u001b[0;32m<ipython-input-2-fc15a3a29e0e>\u001b[0m in \u001b[0;36mcombine_h5_1d\u001b[0;34m(ex, rundir, print_out)\u001b[0m\n\u001b[1;32m     12\u001b[0m     \u001b[0min_file\u001b[0m \u001b[0;34m=\u001b[0m \u001b[0mrundir\u001b[0m \u001b[0;34m+\u001b[0m \u001b[0;34m'/MS/FLD/'\u001b[0m \u001b[0;34m+\u001b[0m \u001b[0mex\u001b[0m \u001b[0;34m+\u001b[0m \u001b[0;34m'/'\u001b[0m\u001b[0;34m\u001b[0m\u001b[0;34m\u001b[0m\u001b[0m\n\u001b[1;32m     13\u001b[0m     \u001b[0mout_file\u001b[0m \u001b[0;34m=\u001b[0m \u001b[0mrundir\u001b[0m \u001b[0;34m+\u001b[0m \u001b[0;34m'/'\u001b[0m \u001b[0;34m+\u001b[0m \u001b[0mex\u001b[0m \u001b[0;34m+\u001b[0m \u001b[0;34m'.h5'\u001b[0m\u001b[0;34m\u001b[0m\u001b[0;34m\u001b[0m\u001b[0m\n\u001b[0;32m---> 14\u001b[0;31m     \u001b[0;32mfor\u001b[0m \u001b[0mpath\u001b[0m \u001b[0;32min\u001b[0m \u001b[0mexecute\u001b[0m\u001b[0;34m(\u001b[0m\u001b[0;34m[\u001b[0m\u001b[0;34m\"python3\"\u001b[0m\u001b[0;34m,\u001b[0m \u001b[0;34m\"/home/sbolanos/Documents/code/JupyterPIC/analysis/combine_h5_util_1d.py\"\u001b[0m\u001b[0;34m,\u001b[0m \u001b[0min_file\u001b[0m\u001b[0;34m,\u001b[0m \u001b[0mout_file\u001b[0m\u001b[0;34m]\u001b[0m\u001b[0;34m)\u001b[0m\u001b[0;34m:\u001b[0m\u001b[0;34m\u001b[0m\u001b[0;34m\u001b[0m\u001b[0m\n\u001b[0m\u001b[1;32m     15\u001b[0m         \u001b[0;32mif\u001b[0m \u001b[0mprint_out\u001b[0m \u001b[0;34m==\u001b[0m \u001b[0;34m'yes'\u001b[0m\u001b[0;34m:\u001b[0m\u001b[0;34m\u001b[0m\u001b[0;34m\u001b[0m\u001b[0m\n\u001b[1;32m     16\u001b[0m             \u001b[0mIPython\u001b[0m\u001b[0;34m.\u001b[0m\u001b[0mdisplay\u001b[0m\u001b[0;34m.\u001b[0m\u001b[0mclear_output\u001b[0m\u001b[0;34m(\u001b[0m\u001b[0mwait\u001b[0m\u001b[0;34m=\u001b[0m\u001b[0;32mTrue\u001b[0m\u001b[0;34m)\u001b[0m\u001b[0;34m\u001b[0m\u001b[0;34m\u001b[0m\u001b[0m\n",
      "\u001b[0;32m<ipython-input-2-fc15a3a29e0e>\u001b[0m in \u001b[0;36mexecute\u001b[0;34m(cmd)\u001b[0m\n\u001b[1;32m      7\u001b[0m     \u001b[0mreturn_code\u001b[0m \u001b[0;34m=\u001b[0m \u001b[0mpopen\u001b[0m\u001b[0;34m.\u001b[0m\u001b[0mwait\u001b[0m\u001b[0;34m(\u001b[0m\u001b[0;34m)\u001b[0m\u001b[0;34m\u001b[0m\u001b[0;34m\u001b[0m\u001b[0m\n\u001b[1;32m      8\u001b[0m     \u001b[0;32mif\u001b[0m \u001b[0mreturn_code\u001b[0m\u001b[0;34m:\u001b[0m\u001b[0;34m\u001b[0m\u001b[0;34m\u001b[0m\u001b[0m\n\u001b[0;32m----> 9\u001b[0;31m         \u001b[0;32mraise\u001b[0m \u001b[0msubprocess\u001b[0m\u001b[0;34m.\u001b[0m\u001b[0mCalledProcessError\u001b[0m\u001b[0;34m(\u001b[0m\u001b[0mreturn_code\u001b[0m\u001b[0;34m,\u001b[0m \u001b[0mcmd\u001b[0m\u001b[0;34m)\u001b[0m\u001b[0;34m\u001b[0m\u001b[0;34m\u001b[0m\u001b[0m\n\u001b[0m\u001b[1;32m     10\u001b[0m \u001b[0;34m\u001b[0m\u001b[0m\n\u001b[1;32m     11\u001b[0m \u001b[0;32mdef\u001b[0m \u001b[0mcombine_h5_1d\u001b[0m\u001b[0;34m(\u001b[0m\u001b[0mex\u001b[0m \u001b[0;34m,\u001b[0m\u001b[0mrundir\u001b[0m\u001b[0;34m,\u001b[0m \u001b[0mprint_out\u001b[0m \u001b[0;34m=\u001b[0m \u001b[0;34m'yes'\u001b[0m\u001b[0;34m)\u001b[0m\u001b[0;34m:\u001b[0m\u001b[0;34m\u001b[0m\u001b[0;34m\u001b[0m\u001b[0m\n",
      "\u001b[0;31mCalledProcessError\u001b[0m: Command '['python3', '/home/sbolanos/Documents/code/JupyterPIC/analysis/combine_h5_util_1d.py', './winjum/SRS_Bx10_gradn_Te8e-2_upS/MS/FLD/e1/', './winjum/SRS_Bx10_gradn_Te8e-2_upS/e1.h5']' returned non-zero exit status 1."
     ]
    }
   ],
   "source": [
    "def execute(cmd):\n",
    "\n",
    "    popen = subprocess.Popen(cmd, stdout=subprocess.PIPE, universal_newlines=True)\n",
    "    for stdout_line in iter(popen.stdout.readline, \"\"):\n",
    "        yield stdout_line\n",
    "    popen.stdout.close()\n",
    "    return_code = popen.wait()\n",
    "    if return_code:\n",
    "        raise subprocess.CalledProcessError(return_code, cmd)\n",
    "\n",
    "def combine_h5_1d(ex ,rundir, print_out = 'yes'):\n",
    "    in_file = rundir + '/MS/FLD/' + ex + '/'\n",
    "    out_file = rundir + '/' + ex + '.h5'\n",
    "    for path in execute([\"python3\", \"/home/sbolanos/Documents/code/JupyterPIC/analysis/combine_h5_util_1d.py\", in_file, out_file]):\n",
    "        if print_out == 'yes':\n",
    "            IPython.display.clear_output(wait=True)\n",
    "#            print(path, end='')\n",
    "\n",
    "rundir = './winjum/SRS_Bx10_gradn_Te8e-2_upS'\n",
    "\n",
    "print('combining E1 files')\n",
    "combine_h5_1d('e1',rundir)\n",
    "combine_h5_1d('b1',rundir)\n",
    "print('DONE')\n",
    "print('combining E2 files')\n",
    "combine_h5_1d('e2',rundir)\n",
    "combine_h5_1d('b2',rundir)\n",
    "print('DONE')\n",
    "print('combining E3 files')\n",
    "combine_h5_1d('e3',rundir)\n",
    "combine_h5_1d('b3',rundir)\n",
    "print('DONE')"
   ]
  },
  {
   "cell_type": "markdown",
   "metadata": {},
   "source": [
    "# ANALYSE DATA"
   ]
  },
  {
   "cell_type": "code",
   "execution_count": null,
   "metadata": {},
   "outputs": [],
   "source": [
    "dirname = './winjum/SRS_B_gradn_Te8e-2_upS'\n",
    "\n",
    "osiris.plot_tk_arb(dirname,'e1',klim=0.4,tlim=6000)\n",
    "\n",
    "osiris.plot_tk_arb(dirname,'e2',klim=0.4,tlim=6000)"
   ]
  },
  {
   "cell_type": "code",
   "execution_count": null,
   "metadata": {
    "scrolled": true
   },
   "outputs": [],
   "source": [
    "osiris.plot_xt_arb(rundir=dirname,field='e1',vmax=0.0005,vmin=-0.0005,cmap='bwr')\n",
    "\n",
    "osiris.plot_xt_arb(rundir=dirname,field='e2',vmax=0.0005,vmin=-0.0005,cmap='bwr',)"
   ]
  },
  {
   "cell_type": "code",
   "execution_count": null,
   "metadata": {},
   "outputs": [],
   "source": [
    "path_data = dirname + '/e2.h5'\n",
    "e2 = osh5io.read_h5(path_data)\n",
    "\n",
    "plt.imshow(e2[4000:5000,1000:2000],origin='lower')\n",
    "plt.colorbar()"
   ]
  },
  {
   "cell_type": "code",
   "execution_count": null,
   "metadata": {},
   "outputs": [],
   "source": [
    "plt.plot(e2[1000,300:401])\n",
    "plt.grid()"
   ]
  },
  {
   "cell_type": "code",
   "execution_count": null,
   "metadata": {},
   "outputs": [],
   "source": [
    "srs_movie(dirname)"
   ]
  },
  {
   "cell_type": "code",
   "execution_count": null,
   "metadata": {},
   "outputs": [],
   "source": [
    "osiris.plot_wk(rundir=dirname, wlim=[0,0.02], klim=[0,16], vth = 0.08, vmin=-1, vmax=3)"
   ]
  },
  {
   "cell_type": "markdown",
   "metadata": {},
   "source": [
    "# External B-field\n"
   ]
  },
  {
   "cell_type": "code",
   "execution_count": null,
   "metadata": {},
   "outputs": [],
   "source": [
    "dirname = './winjum/SRS_B_Te1e-3_ext'\n",
    "\n",
    "osiris.plot_xt_arb(rundir=dirname,field='ext_b1',tlim=(0,3000),xlim=(0,2148),vmax=0.003,vmin=-0.001)\n",
    "\n",
    "osiris.plot_xt_arb(rundir=dirname,field='ext_b2',tlim=(0,3000),xlim=(0,2148))"
   ]
  },
  {
   "cell_type": "markdown",
   "metadata": {},
   "source": [
    "# SANDBOX"
   ]
  },
  {
   "cell_type": "code",
   "execution_count": null,
   "metadata": {},
   "outputs": [],
   "source": [
    "from scipy.optimize import curve_fit\n",
    "\n",
    "dirname =  './winjum/SRS_B_gradn_Te8e-2_upS'\n",
    "\n",
    "def poynting(x,S,w,pha):\n",
    "    return S*(np.sin(w*x+pha))**2\n",
    "\n",
    "s1,s2,s3 = osiris.get_Poynting(dirname)\n",
    "\n",
    "ne_cr=0.13\n",
    "\n",
    "w =1.#00001#np.sqrt(1.+ne_cr)\n",
    "S0= 4.4e-4\n",
    "\n",
    "nt = len(s1.axes[0].get_axis_points())\n",
    "t = s1.axes[0].get_axis_points()\n",
    "#plt.imshow(s1[:,0:100],origin=\"lower\")\n",
    "#plt.colorbar()\n",
    "\n",
    "S_ref = S0*(np.sin(w*t))**2\n",
    "\n",
    "plt.plot(t,s1.data[:,1],label='OSIRIS')\n",
    "plt.plot(t,S_ref,label='REF')\n",
    "plt.plot(t,S_ref-s1.data[:,1])\n",
    "plt.legend(loc='best')\n",
    "plt.grid()\n"
   ]
  },
  {
   "cell_type": "code",
   "execution_count": null,
   "metadata": {},
   "outputs": [],
   "source": [
    "plt.plot(t,s1.data[:,1],label='OSIRIS')\n",
    "plt.plot(t,S_ref,label='REF')\n",
    "plt.plot(t,S_ref-s1.data[:,1])\n",
    "plt.legend(loc='best')\n",
    "plt.grid()\n",
    "plt.xlim([4400.,4500.])"
   ]
  },
  {
   "cell_type": "code",
   "execution_count": null,
   "metadata": {},
   "outputs": [],
   "source": [
    "plt.plot(t,s1.data[:,1],label='OSIRIS')\n",
    "plt.plot(t,S_ref,label='REF')\n",
    "plt.plot(t,S_ref-s1.data[:,1])\n",
    "plt.legend(loc='best')\n",
    "plt.grid()\n",
    "plt.xlim([t[imin],t[imax]])"
   ]
  },
  {
   "cell_type": "code",
   "execution_count": null,
   "metadata": {},
   "outputs": [],
   "source": [
    "imin = 100\n",
    "imax = 1500\n",
    "popt, pcov = curve_fit(poynting, t[imin:imax], s1.data[imin:imax,1])\n",
    "\n",
    "print('results: ',popt)"
   ]
  },
  {
   "cell_type": "code",
   "execution_count": null,
   "metadata": {},
   "outputs": [],
   "source": [
    "\n",
    "S_ref = poynting(t,*popt)\n",
    "\n",
    "plt.plot(t,s1.data[:,1],label='OSIRIS')\n",
    "#plt.plot(t,S_ref,label='REF')\n",
    "plt.plot(t,S_ref-s1.data[:,1])\n",
    "plt.legend(loc='best')\n",
    "plt.grid()"
   ]
  },
  {
   "cell_type": "code",
   "execution_count": null,
   "metadata": {},
   "outputs": [],
   "source": [
    "i_init = 0#1500\n",
    "\n",
    "int_s1 = np.sum(s1.data[i_init:,1])\n",
    "int_ref= np.sum(S_ref[i_init:])\n",
    "\n",
    "reflect= (S_ref-s1.data[:,1])\n",
    "sum_ref=np.sum(reflect)/int_ref\n",
    "\n",
    "print('OSIRIS poynting:',int_s1)\n",
    "print('REFER  poynting:',int_ref)\n",
    "print('% Reflectivity :',(int_ref-int_s1)/int_ref)\n"
   ]
  },
  {
   "cell_type": "markdown",
   "metadata": {},
   "source": [
    "# Roman Lee: Reflectivity measurement"
   ]
  },
  {
   "cell_type": "code",
   "execution_count": null,
   "metadata": {},
   "outputs": [],
   "source": [
    "s1.data.shape"
   ]
  },
  {
   "cell_type": "code",
   "execution_count": null,
   "metadata": {
    "scrolled": true
   },
   "outputs": [],
   "source": [
    "data_h5 = s1\n",
    "n_savg=200 # cell in space around which to take spatial average, this smooths out reflectivity data\n",
    "nn_avg=100  # nbr of cell to average arounde n_savg\n",
    "c = s1.data\n",
    "\n",
    "# average in time around nth spatial cell\n",
    "tmp = np.mean( c[:, n_savg-nn_avg:n_savg+nn_avg ], axis = 1 )\n",
    "\n",
    "# TODO this is a total hack, need a more reliable way to get amplitude of laser\n",
    "# Although, it's easy to tell by looking at the plot if it didn't work\n",
    "rmin =400 \n",
    "rmax = int(len(tmp)/7)\n",
    "print('rmax =',rmax)\n",
    "cmax = np.max(tmp[rmin:rmax]) # should be poynting flux when only laser is present at t_rise, no scattering\n",
    "print('Cmax = ', cmax)\n",
    "\n",
    "# average reflectivity\n",
    "ave_ref = (cmax - np.average(c))/cmax \n",
    "print('% ave Reflectivity: ',ave_ref)\n",
    "\n",
    "\n",
    "rr = (cmax - tmp)/cmax\n",
    "\n",
    "plt.plot(t,c[:,n_savg])\n",
    "plt.plot(t,tmp)\n",
    "#save='reflectivity'\n",
    "#suptitle='suptitle'\n",
    "#subplot_title='subplot_title'\n",
    "#roman = plot_reflectivity(data_h5,n_savg,save,suptitle,subplot_title,afs=(8,8))"
   ]
  },
  {
   "cell_type": "code",
   "execution_count": null,
   "metadata": {},
   "outputs": [],
   "source": [
    "plt.plot(t,reflect/popt[0])\n",
    "plt.plot(t,rr)\n",
    "#plt.xlim([300,1700])\n",
    "#plt.ylim([-0.01,0.02])"
   ]
  },
  {
   "cell_type": "code",
   "execution_count": null,
   "metadata": {},
   "outputs": [],
   "source": [
    "tt = np.mean(c[ :, 1:2*n_savg ],axis=1)\n",
    "tt.shape"
   ]
  },
  {
   "cell_type": "code",
   "execution_count": null,
   "metadata": {},
   "outputs": [],
   "source": [
    "plt.plot(t,tmp)"
   ]
  },
  {
   "cell_type": "code",
   "execution_count": null,
   "metadata": {},
   "outputs": [],
   "source": []
  }
 ],
 "metadata": {
  "kernelspec": {
   "display_name": "Python 3",
   "language": "python3",
   "name": "python3"
  },
  "language_info": {
   "codemirror_mode": {
    "name": "ipython",
    "version": 3
   },
   "file_extension": ".py",
   "mimetype": "text/x-python",
   "name": "python",
   "nbconvert_exporter": "python",
   "pygments_lexer": "ipython3",
   "version": "3.8.5"
  }
 },
 "nbformat": 4,
 "nbformat_minor": 2
}
