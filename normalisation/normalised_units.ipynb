{
 "cells": [
  {
   "cell_type": "markdown",
   "metadata": {},
   "source": [
    "# OSIRIS normalized units: \n",
    "\n",
    "* Time:  $t' = t \\omega_{p}$\n",
    "\n",
    "* Frequency: $\\omega' = \\frac{\\omega}{\\omega_{p}}$ \n",
    "\n",
    "* Position: $\\vec{x}' = \\frac{\\omega_{p}}{c} \\vec{x}$  \n",
    "\n",
    "* Momenta: $\\vec{u}' = \\frac{\\vec{p}}{m_{e} c} = \\frac{\\vec{\\gamma v}}{c} = \\frac{\\vec{u}} {c}$  \n",
    "\n",
    "* Electric field: $\\vec{E}' = e \\frac{c / \\omega_{p}}{m_{e} c^2} \\vec{E}$  \n",
    "\n",
    "* Magnetic field: $\\vec{B}' = e \\frac{c / \\omega_{p}}{m_{e} c^2} \\vec{B}$  \n",
    "\n",
    "/!\\ Normalisé avec des unité en cgs !!!!"
   ]
  },
  {
   "cell_type": "code",
   "execution_count": 1,
   "metadata": {},
   "outputs": [],
   "source": [
    "import numpy as np\n",
    "import matplotlib.pyplot as plt\n",
    "from ipywidgets import interact_manual,Layout,interact, FloatSlider\n",
    "import ipywidgets as widgets\n",
    "from IPython.display import display\n",
    "interact_calc=interact_manual.options(manual_name=\"Make New Input and Run\")\n",
    "\n",
    "#constants\n",
    "mp = 1.67e-24 # express in g\n",
    "me = 9.1e-28  # express in g\n",
    "e  = 4.8e-10  # express in statcoul\n",
    "c  = 3e10      #         in cm/s\n",
    "k  = 1.3807e-16#        in erg/K\n",
    "kerg = 1.6e-12 #        in erg/eV\n",
    "\n",
    "mu0= 4.0*np.pi*1e-7\n",
    "e0 = 8.8542e-12\n",
    "\n"
   ]
  },
  {
   "cell_type": "code",
   "execution_count": 2,
   "metadata": {},
   "outputs": [
    {
     "data": {
      "application/vnd.jupyter.widget-view+json": {
       "model_id": "87af79b8504e4d71ac23bb8f4c7905a0",
       "version_major": 2,
       "version_minor": 0
      },
      "text/plain": [
       "interactive(children=(Text(value='1e19', description='ne_str'), Output()), _dom_classes=('widget-interact',))"
      ]
     },
     "metadata": {},
     "output_type": "display_data"
    }
   ],
   "source": [
    "\n",
    "def nunits(ne_str):\n",
    "    ne = float(ne_str)\n",
    "    \n",
    "    #wpe = np.sqrt(ne * q**2 /(me*e0)) #SI\n",
    "    wpe = np.sqrt(4*np.pi*ne * e*e /me)\n",
    "    le  = c/wpe\n",
    "    En  = (me*c**2)/(e * le )\n",
    "\n",
    "    #print('ne  = {:1.1e}'.format(ne))\n",
    "    print('wpe = ', wpe*1e-12,' rad/ps')\n",
    "    print('le  = ', le, ' cm')\n",
    "    print('E-B = ', En, ' stratvolt/cm' )\n",
    "    \n",
    "    return ne,wpe,le,En\n",
    "\n",
    "param = widgets.interactive(nunits,ne_str='1e19',continuous_update=True);\n",
    "\n",
    "display(param)"
   ]
  },
  {
   "cell_type": "markdown",
   "metadata": {},
   "source": [
    "# Physical units -> normalised units\n",
    "\n",
    "Enter the experimental dimensions to get the one for the simulations box"
   ]
  },
  {
   "cell_type": "code",
   "execution_count": 3,
   "metadata": {},
   "outputs": [
    {
     "data": {
      "application/vnd.jupyter.widget-view+json": {
       "model_id": "eec57944d6c547dc94052390a7756d6a",
       "version_major": 2,
       "version_minor": 0
      },
      "text/plain": [
       "interactive(children=(Text(value='140', description='t_ps'), Text(value='400', description='L_um'), Text(value…"
      ]
     },
     "metadata": {},
     "output_type": "display_data"
    }
   ],
   "source": [
    "def phys2norm(t_ps,L_um,B_T):\n",
    "    \n",
    "    ne,wpe, le, En = param.result\n",
    "\n",
    "    #TIME\n",
    "    tf = float(t_ps)*1e-12\n",
    "    tn = tf*wpe\n",
    "    #LENGTH\n",
    "    Lf = float(L_um)*1e-4\n",
    "    ln = Lf/le\n",
    "    #B-field\n",
    "    Bf = float(B_T)*1e4\n",
    "    Bn = Bf/En\n",
    "\n",
    "    print(\"t' = \",tn)\n",
    "    print(\"l' = \",ln)\n",
    "    print(\"B' = \",Bn)\n",
    "\n",
    "widgets.interact(phys2norm,t_ps='140',L_um = '400',B_T = '10',continuous_update=True);\n",
    "    "
   ]
  },
  {
   "cell_type": "markdown",
   "metadata": {},
   "source": [
    "# Normalised units -> Physical units\n",
    "\n",
    "Enter the experimental dimensions to get the one for the simulations box\n"
   ]
  },
  {
   "cell_type": "code",
   "execution_count": null,
   "metadata": {},
   "outputs": [],
   "source": [
    "def norm2phys2(t_n,l_n,b_n):\n",
    "    \n",
    "    ne,wpe, le, En = param.result\n",
    "\n",
    "    #TIME\n",
    "    tn = float(t_n)\n",
    "    t = tn / wpe\n",
    "    #LENGTH\n",
    "    ln = float(l_n)\n",
    "    L = ln*le\n",
    "    #B-field\n",
    "    bn = float(b_n)\n",
    "    B  = bn*En\n",
    "\n",
    "    print(\"t = \",t*1e12,'ps')\n",
    "    print(\"l = \",L*1e4,'um')\n",
    "    print(\"B = \",B*1e-4 ,'T')\n",
    "\n",
    "widgets.interact(norm2phys2,t_n='35000',l_n = '2000',b_n = '0.0025',continuous_update=True);"
   ]
  },
  {
   "cell_type": "markdown",
   "metadata": {},
   "source": [
    "# Vitesse et temperature thermique des électrons\n",
    "From OSIRIS User's guide\n",
    "\n",
    "uth specifies the constant thermal spread in velocities for this particle species in each of the directions. Momenta specified are proper velocities i.e. $ \\gamma \\times v$ in units of c.\n",
    "\n",
    "For a \"thermal\" uth_type, the value given is the standard deviation of a Maxwellian (i.e. Gaussian) and should be equal to $\\sqrt{T/mc^{2}}$, i.e. for a 1 keV isotropic electron plasma one would want to enter\n",
    "uth(1:3) = .04424, .04424, .04424,\n",
    "\n",
    "When specifying the thermal momenta for heavier species (i.e. $\\left|rqm\\right|>1.0$), if we want them to have the same temperature as an electron species, we need to set $ u_{th}$ so that $u_{th\\,ion}={\\sqrt {m_{e}/m_{ion}}}u_{th\\,e}\\Leftrightarrow u_{th\\,ion}={\\sqrt {|1/rqm|}}u_{th\\,e}$. For protons this would mean choosing $u_{th}=u_{th\\,e}/42.8504=0.0233370u_{th\\,e}$. \n"
   ]
  },
  {
   "cell_type": "code",
   "execution_count": null,
   "metadata": {},
   "outputs": [],
   "source": [
    "T_eV = 3.0e3 # eV\n",
    "\n",
    "E_e   = T_eV*kerg\n",
    "\n",
    "v_e   = np.sqrt(E_e / me)\n",
    "\n",
    "print('v_e =', v_e )\n",
    "print('v/c =', v_e/c )"
   ]
  },
  {
   "cell_type": "markdown",
   "metadata": {},
   "source": [
    "# Laser normalisation\n",
    "\n",
    "Attention la cellule \"vitesse et température thermique\" doit avoir été lancée."
   ]
  },
  {
   "cell_type": "code",
   "execution_count": null,
   "metadata": {},
   "outputs": [],
   "source": [
    "ne_cr = 0.3 # ne/ncr \n",
    "\n",
    "k_lambdaD = v_e/c /(np.sqrt(ne_cr)) *np.sqrt(1 - ne_cr**2)\n",
    "\n",
    "print('k lambda_D =',k_lambdaD)"
   ]
  },
  {
   "cell_type": "code",
   "execution_count": null,
   "metadata": {},
   "outputs": [],
   "source": [
    "np.sqrt(1 - ne_cr**2)\n"
   ]
  },
  {
   "cell_type": "code",
   "execution_count": null,
   "metadata": {},
   "outputs": [],
   "source": []
  }
 ],
 "metadata": {
  "kernelspec": {
   "display_name": "Python 3",
   "language": "python3",
   "name": "python3"
  },
  "language_info": {
   "codemirror_mode": {
    "name": "ipython",
    "version": 3
   },
   "file_extension": ".py",
   "mimetype": "text/x-python",
   "name": "python",
   "nbconvert_exporter": "python",
   "pygments_lexer": "ipython3",
   "version": "3.8.5"
  }
 },
 "nbformat": 4,
 "nbformat_minor": 2
}
